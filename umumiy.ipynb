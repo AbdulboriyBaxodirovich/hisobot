{
 "cells": [
  {
   "cell_type": "code",
   "execution_count": null,
   "metadata": {},
   "outputs": [],
   "source": [
    "import streamlit as st\n",
    "\n",
    "# Sahifa konfiguratsiyasi\n",
    "st.set_page_config(page_title=\"Hisobot\", layout=\"wide\")\n",
    "\n",
    "# Yon paneldagi menyu\n",
    "with st.sidebar:\n",
    "    st.markdown(\n",
    "        \"\"\"\n",
    "        <style>\n",
    "        .sidebar .sidebar-content {\n",
    "            background-color: #003366;\n",
    "        }\n",
    "        .sidebar .stButton>button {\n",
    "            color: white;\n",
    "        }\n",
    "        .sidebar .stMarkdown {\n",
    "            color: white;\n",
    "        }\n",
    "        </style>\n",
    "        \"\"\",\n",
    "        unsafe_allow_html=True,\n",
    "    )\n",
    "    menu = st.radio(\"\\n\", [\"Asosiy\", \"Kirim\", \"Chiqim\"])\n",
    "\n",
    "# Asosiy sahifa tarkibi\n",
    "st.title(\"Hisobot\")\n",
    "\n",
    "if menu == \"Asosiy\":\n",
    "    st.header(\"Asosiy Bo'lim\")\n",
    "    st.write(\"Bu yerda umumiy hisobotlar ko'rsatiladi.\")\n",
    "\n",
    "elif menu == \"Kirim\":\n",
    "    st.header(\"Kirim Bo'limi\")\n",
    "    st.write(\"Bu yerda kirim ma'lumotlari keltiriladi.\")\n",
    "\n",
    "elif menu == \"Chiqim\":\n",
    "    st.header(\"Chiqim Bo'limi\")\n",
    "    st.write(\"Bu yerda chiqim ma'lumotlari keltiriladi.\")\n"
   ]
  }
 ],
 "metadata": {
  "language_info": {
   "name": "python"
  }
 },
 "nbformat": 4,
 "nbformat_minor": 2
}
